{
 "cells": [
  {
   "cell_type": "code",
   "execution_count": 7,
   "id": "82c4ab65",
   "metadata": {},
   "outputs": [],
   "source": [
    "import pandas as pd\n",
    "from sklearn.ensemble import GradientBoostingRegressor\n",
    "from solution import *\n"
   ]
  },
  {
   "cell_type": "code",
   "execution_count": 8,
   "id": "5d9f1602",
   "metadata": {},
   "outputs": [
    {
     "name": "stderr",
     "output_type": "stream",
     "text": [
      "/tmp/ipykernel_2293726/1762780466.py:2: UserWarning: Could not infer format, so each element will be parsed individually, falling back to `dateutil`. To ensure parsing is consistent and as-expected, please specify a format.\n",
      "  df = pd.read_csv(df_path, parse_dates=[\"monday\"])\n"
     ]
    }
   ],
   "source": [
    "df_path = \"data_train_sql.csv\"\n",
    "df = pd.read_csv(df_path, parse_dates=[\"monday\"])\n",
    "df = df.sort_values(by=['monday']).reset_index(drop=True)\n",
    "y = df.pop(\"y\")\n",
    "\n",
    "# monday or product_name as a groups for validation?\n",
    "df.drop(['product_name'], axis=1, inplace=True)\n",
    "groups = df.pop('monday').astype(int)\n",
    "\n",
    "X = df\n",
    "\n",
    "# Validation loop\n",
    "cv = GroupTimeSeriesSplit(\n",
    "    n_splits=5,\n",
    "    max_train_size=None,\n",
    "    test_size=3,\n",
    "    gap=1,\n",
    ")\n",
    "\n"
   ]
  },
  {
   "cell_type": "code",
   "execution_count": 9,
   "id": "dedc921a",
   "metadata": {},
   "outputs": [
    {
     "name": "stdout",
     "output_type": "stream",
     "text": [
      "0.27787667764593865\n",
      "0.45930027347452196\n",
      "0.3697777754152664\n",
      "0.3289049085284006\n",
      "0.35085551997557896\n"
     ]
    },
    {
     "data": {
      "text/plain": [
       "0.19752267468913418"
      ]
     },
     "execution_count": 9,
     "metadata": {},
     "output_type": "execute_result"
    }
   ],
   "source": [
    "\n",
    "wape_ = []\n",
    "for train_idx, test_idx in cv.split(X, y,groups):\n",
    "    X_train,y_train,X_test,y_test = X.loc[train_idx],y[train_idx],X.loc[test_idx],y[test_idx]\n",
    "    model = GradientBoostingRegressor(max_depth=5\n",
    "                                      ,random_state=121,n_estimators=200,learning_rate = 0.1)\n",
    "    model.fit(X_train,y_train)\n",
    "    y_pred = model.predict(X_test)\n",
    "    print(mape(y_test,y_pred))\n",
    "    wape_.append(wape(y_test,y_pred))\n",
    "np.mean(wape_)"
   ]
  },
  {
   "cell_type": "code",
   "execution_count": 6,
   "id": "83444d6c",
   "metadata": {},
   "outputs": [
    {
     "data": {
      "text/plain": [
       "PredictionDict(pred=array([[21.4706791 , 21.51374389, 21.28519898],\n",
       "       [17.10094525, 17.72827263, 18.19107766],\n",
       "       [16.84735131, 17.02897494, 16.69597704],\n",
       "       ...,\n",
       "       [19.43565172, 19.19030956, 19.05098782],\n",
       "       [16.47395043, 16.40216191, 16.04258112],\n",
       "       [12.64761033, 12.56767364, 12.5250388 ]]), uncertainty=array([0.09915769, 0.44673095, 0.13613266, ..., 0.1590142 , 0.18871832,\n",
       "       0.05080615]), pred_virt=array([21.42320732, 17.67343185, 16.85743443, ..., 19.2256497 ,\n",
       "       16.30623115, 12.58010759]), lcb=array([21.12573426, 16.33323901, 16.44903645, ..., 18.7486071 ,\n",
       "       15.74007621, 12.42768914]), ucb=array([21.72068039, 19.01362468, 17.26583241, ..., 19.7026923 ,\n",
       "       16.8723861 , 12.73252603]))"
      ]
     },
     "execution_count": 6,
     "metadata": {},
     "output_type": "execute_result"
    }
   ],
   "source": [
    "from uncertainty import *\n",
    "model = GradientBoostingRegressor(max_depth=5\n",
    "                                  ,random_state=121,n_estimators=100,learning_rate = 0.1)\n",
    "model.fit(df,y)\n",
    "predict_with_uncertainty(model,X,20)"
   ]
  },
  {
   "cell_type": "code",
   "execution_count": null,
   "id": "03503a30",
   "metadata": {},
   "outputs": [],
   "source": []
  }
 ],
 "metadata": {
  "kernelspec": {
   "display_name": "Python 3 (ipykernel)",
   "language": "python",
   "name": "python3"
  },
  "language_info": {
   "codemirror_mode": {
    "name": "ipython",
    "version": 3
   },
   "file_extension": ".py",
   "mimetype": "text/x-python",
   "name": "python",
   "nbconvert_exporter": "python",
   "pygments_lexer": "ipython3",
   "version": "3.10.12"
  }
 },
 "nbformat": 4,
 "nbformat_minor": 5
}
