{
 "cells": [
  {
   "cell_type": "code",
   "execution_count": 523,
   "id": "ab3a5d6e",
   "metadata": {},
   "outputs": [],
   "source": [
    "import pandas as pd\n",
    "import math\n",
    "import numpy as np\n",
    "from plotly.subplots import make_subplots\n",
    "import plotly.graph_objects as go\n",
    "temp = dict(layout=go.Layout(font=dict(family=\"Franklin Gothic\", size=12), width=800))\n",
    "import matplotlib.pyplot as plt\n",
    "from plotly.offline import init_notebook_mode\n",
    "import warnings\n",
    "from sklearn.metrics import mean_squared_error as mse\n",
    "from sklearn.metrics import mean_absolute_percentage_error as mape\n",
    "import matplotlib.pyplot as plt\n",
    "import seaborn as sns\n",
    "from sklearn.metrics import r2_score\n",
    "warnings.simplefilter(\"ignore\")"
   ]
  },
  {
   "cell_type": "code",
   "execution_count": 485,
   "id": "4cda5a3b",
   "metadata": {},
   "outputs": [],
   "source": [
    "df = pd.read_csv('conc_df.csv')\n",
    "one = pd.read_csv('first_group_sku.csv')\n",
    "two = pd.read_csv('second_group_sku.csv')\n",
    "third = pd.read_csv('third_group_sku.csv')\n",
    "prom = pd.read_csv('promo_1510002.csv')\n",
    "sku = pd.read_csv('sku_dict.csv')"
   ]
  },
  {
   "cell_type": "code",
   "execution_count": 486,
   "id": "d6c09dab",
   "metadata": {},
   "outputs": [],
   "source": [
    "test = pd.read_csv('test.csv')"
   ]
  },
  {
   "cell_type": "code",
   "execution_count": 487,
   "id": "caaac7a8",
   "metadata": {},
   "outputs": [],
   "source": [
    "one['next'] = one.groupby('SKU').shift(-1)['price_per_sku']\n",
    "one['pred'] = one.groupby('SKU').shift(1)['price_per_sku']"
   ]
  },
  {
   "cell_type": "code",
   "execution_count": 488,
   "id": "a0124c4a",
   "metadata": {},
   "outputs": [],
   "source": [
    "one['price_per_sku'] = one.apply(lambda x: x['price_per_sku'] if not math.isnan(x['price_per_sku']) \n",
    "                                 else np.mean([x['next'],x['pred']]) ,axis =1) "
   ]
  },
  {
   "cell_type": "code",
   "execution_count": 489,
   "id": "973cca4e",
   "metadata": {},
   "outputs": [],
   "source": [
    "one[one['price_per_sku'].isna()]\n",
    "mean = one[one['SKU']==78833].price_per_sku.mean()\n",
    "one['price_per_sku'].fillna(mean,inplace=True)\n",
    "one.drop(['next','pred'],axis=1,inplace=True)"
   ]
  },
  {
   "cell_type": "code",
   "execution_count": 490,
   "id": "3ea9b371",
   "metadata": {},
   "outputs": [],
   "source": [
    "one['group'] = 1\n",
    "two['group'] = 2\n",
    "third['group'] = 3\n",
    "one['type'] ='train'\n",
    "two['type'] ='train'\n",
    "third['type'] ='train'\n",
    "test['group'] = test['SKU'].map(lambda x: 1 if x in one['group'].tolist() else (2 if x in two['group'].tolist() else 3 ))\n",
    "test['type'] = 'test'"
   ]
  },
  {
   "cell_type": "code",
   "execution_count": 491,
   "id": "cae8b9fe",
   "metadata": {},
   "outputs": [],
   "source": [
    "data = pd.concat([one,two,third,test])\n",
    "data['dates'] = pd.to_datetime(data['dates'])\n",
    "data['month']  = data['dates'].dt.month\n",
    "data['year']  = data['dates'].dt.year\n",
    "data = data.sort_values(by=['dates'])"
   ]
  },
  {
   "cell_type": "code",
   "execution_count": 492,
   "id": "1a1308f9",
   "metadata": {},
   "outputs": [],
   "source": [
    "pred = data.groupby(by=['SKU','year','month'])['price_per_sku'].mean().reset_index().copy()\n",
    "pred['pred'] = pred.groupby('SKU')['price_per_sku'].shift()"
   ]
  },
  {
   "cell_type": "code",
   "execution_count": 493,
   "id": "2fdc5685",
   "metadata": {},
   "outputs": [],
   "source": [
    "pred = pred[['SKU','year','month','pred']]"
   ]
  },
  {
   "cell_type": "code",
   "execution_count": 494,
   "id": "367858ae",
   "metadata": {},
   "outputs": [],
   "source": [
    "data = data.merge(pred,'left',on=['SKU','year','month'])"
   ]
  },
  {
   "cell_type": "code",
   "execution_count": 495,
   "id": "eb81a308",
   "metadata": {},
   "outputs": [],
   "source": [
    "data['dates'] = pd.to_datetime(data['dates'])\n",
    "data['year'] = data['dates'].dt.year\n",
    "data['month'] = data['dates'].dt.month"
   ]
  },
  {
   "cell_type": "code",
   "execution_count": 496,
   "id": "88a76ec3",
   "metadata": {},
   "outputs": [],
   "source": [
    "data_cat = ['SKU','month','year','group']"
   ]
  },
  {
   "cell_type": "code",
   "execution_count": 497,
   "id": "b219a40a",
   "metadata": {},
   "outputs": [],
   "source": [
    "data['chg'] = ((data['price_per_sku']-data['pred'])/data['pred'])*100\n",
    "data['cat_chg'] = 0\n",
    "for group in [1,2,3]:\n",
    "    data_ = data[data['group']==group]\n",
    "    \n",
    "    data_ = data_.groupby(by=['month']).chg.mean().reset_index()\n",
    "    \n",
    "    mean = np.mean(data_['chg'])\n",
    "    std = np.std(data_['chg'])\n",
    "    \n",
    "    month_1 =  data_[data_['chg'] >= mean+std].month.tolist()\n",
    "    month_2 =  data_[data_['chg'] <= mean-std].month.tolist()\n",
    "    \n",
    "    month_3 = [x for x in data_.month if x not in month_1 and x not in month_2]\n",
    "    \n",
    "    data.loc[(data['group'] == group)&(data['month'].isin(month_1)),'cat_chg'] = group\n",
    "    data.loc[(data['group'] == group)&(data['month'].isin(month_2)),'cat_chg'] = -group\n",
    "    data.loc[(data['group'] == group)&(data['month'].isin(month_3)),'cat_chg'] = group*10\n",
    "    \n",
    "data['cat_chg'] = data['cat_chg'].astype(int)\n",
    "data.drop(['pred','chg'],axis=1,inplace=True)"
   ]
  },
  {
   "cell_type": "code",
   "execution_count": 498,
   "id": "c6bbd69f",
   "metadata": {},
   "outputs": [],
   "source": [
    "sku['creation_date']  = pd.to_datetime(sku['creation_date'])\n",
    "sku['expiration_date']  = pd.to_datetime(sku['expiration_date'])\n",
    "sku['life'] = (sku['expiration_date'] -sku['creation_date'] ).dt.days\n",
    "sku['creation_year'] = sku['creation_date'].dt.year\n",
    "sku_cat = ['fincode','ui1_code','ui2_code','ui3_code','vendor','brand_code','creation_year']\n",
    "sku = sku.rename(columns={'sku_id':'SKU'})\n",
    "data = data.merge(sku,'left',on=['SKU'])\n",
    "data['week_num'] = data['dates'].dt.isocalendar().week"
   ]
  },
  {
   "cell_type": "code",
   "execution_count": 499,
   "id": "5c676665",
   "metadata": {
    "scrolled": false
   },
   "outputs": [],
   "source": [
    "data = data.merge(prom.fillna(0),'left',on=['SKU','year','week_num'])"
   ]
  },
  {
   "cell_type": "code",
   "execution_count": 500,
   "id": "17b7bb1c",
   "metadata": {},
   "outputs": [],
   "source": [
    "data['num_purchases'] = data[['num_purchases','SKU','month','year']].groupby(by=['SKU','year','month']).num_purchases.fillna(method='ffill')"
   ]
  },
  {
   "cell_type": "code",
   "execution_count": 501,
   "id": "d7335c40",
   "metadata": {},
   "outputs": [],
   "source": [
    "data['dis_cat'] = data['discount'].map(lambda x: 1 if x>0 else 0)\n",
    "data['num_date'] = data['dates'].astype(int)\n",
    "data['num_creation_date'] = data['creation_date'].astype(int)\n",
    "data['num_expiration_date'] = data['expiration_date'].astype(int)"
   ]
  },
  {
   "cell_type": "code",
   "execution_count": 508,
   "id": "de4a1c69",
   "metadata": {},
   "outputs": [],
   "source": [
    "data_cat.extend(sku_cat)"
   ]
  },
  {
   "cell_type": "code",
   "execution_count": 513,
   "id": "391f994b",
   "metadata": {},
   "outputs": [],
   "source": [
    "cat_features =  [x for x in data.columns if 'cat' in x or x in data_cat]\n",
    "cat_features = list(set(cat_features))"
   ]
  },
  {
   "cell_type": "code",
   "execution_count": 514,
   "id": "3a250296",
   "metadata": {},
   "outputs": [],
   "source": [
    "from tqdm.auto import tqdm\n",
    "def cv(train,features,cat_features,params):\n",
    "    cv = KFold(3,shuffle=True,random_state = 13)\n",
    "    rmse = []\n",
    "    mape_ = []\n",
    "    r2 = []\n",
    "    for cv_ in tqdm(cv.split(train),total=3):\n",
    "\n",
    "        X_train, X_test = train[train.index.isin(cv_[0])],train[train.index.isin(cv_[1])]\n",
    "\n",
    "\n",
    "\n",
    "        train_pool = Pool(X_train[features],label=X_train[target],cat_features=cat_features)\n",
    "        model = CatBoostRegressor(**params)\n",
    "        model.fit(train_pool)\n",
    "\n",
    "\n",
    "        y_pred = model.predict(X_test[features])\n",
    "        \n",
    "        \n",
    "       # X_test[target] = np.exp(X_test[target])\n",
    "       # y_pred = np.exp(y_pred)\n",
    "        print(np.sqrt(mse(y_pred,X_test[target])))\n",
    "        print(mape(y_pred,X_test[target]))\n",
    "        print(r2_score(y_pred,X_test[target]))\n",
    "\n",
    "        rmse.append(np.sqrt(mse(y_pred,X_test[target])))\n",
    "        mape_.append(mape(y_pred,X_test[target]))\n",
    "        r2.append(r2_score(X_test[target],y_pred))\n",
    "    return np.mean(r2),np.mean(mape_),np.mean(rmse)"
   ]
  },
  {
   "cell_type": "code",
   "execution_count": 526,
   "id": "c96a320d",
   "metadata": {},
   "outputs": [],
   "source": [
    "train = data[data['type']=='train'].reset_index(drop=True)\n",
    "test = data[data['type']=='test'].reset_index(drop=True)"
   ]
  },
  {
   "cell_type": "code",
   "execution_count": 518,
   "id": "118e7762",
   "metadata": {},
   "outputs": [],
   "source": [
    "info = ['dates','type','creation_date','expiration_date']\n",
    "target = 'price_per_sku'\n",
    "features =  [x for x in data.columns if x!=target and x not in info]"
   ]
  },
  {
   "cell_type": "code",
   "execution_count": 524,
   "id": "528c2407",
   "metadata": {},
   "outputs": [
    {
     "data": {
      "application/vnd.jupyter.widget-view+json": {
       "model_id": "cebf2c31d7d447f487520c502daca879",
       "version_major": 2,
       "version_minor": 0
      },
      "text/plain": [
       "  0%|          | 0/3 [00:00<?, ?it/s]"
      ]
     },
     "metadata": {},
     "output_type": "display_data"
    },
    {
     "name": "stdout",
     "output_type": "stream",
     "text": [
      "0:\tlearn: 53.0392576\ttotal: 5.72ms\tremaining: 5.72s\n",
      "500:\tlearn: 2.6141887\ttotal: 704ms\tremaining: 701ms\n",
      "999:\tlearn: 1.5301851\ttotal: 1.38s\tremaining: 0us\n",
      "8.753991396263586\n",
      "0.0081958351196346\n",
      "0.9808353773506419\n",
      "0:\tlearn: 55.1026065\ttotal: 2.57ms\tremaining: 2.57s\n",
      "500:\tlearn: 2.5298215\ttotal: 666ms\tremaining: 663ms\n",
      "999:\tlearn: 1.3709952\ttotal: 1.35s\tremaining: 0us\n",
      "8.464487996269163\n",
      "0.008459098819091364\n",
      "0.9796214714888196\n",
      "0:\tlearn: 55.9858380\ttotal: 1.7ms\tremaining: 1.7s\n",
      "500:\tlearn: 3.0408998\ttotal: 689ms\tremaining: 687ms\n",
      "999:\tlearn: 1.8077729\ttotal: 1.39s\tremaining: 0us\n",
      "6.69253153732281\n",
      "0.007618690633177785\n",
      "0.9866264345017605\n"
     ]
    },
    {
     "data": {
      "text/plain": [
       "(0.9821385374993715, 0.008091208190634582, 7.97033697661852)"
      ]
     },
     "execution_count": 524,
     "metadata": {},
     "output_type": "execute_result"
    }
   ],
   "source": [
    "from sklearn.model_selection import RandomizedSearchCV, cross_validate, GridSearchCV, RepeatedKFold, cross_val_score, KFold\n",
    "from catboost import CatBoostRegressor,Pool\n",
    "params = {'combinations_ctr': 'Borders',\n",
    "'simple_ctr': 'Borders','random_seed':875,'verbose':500,'num_trees':1000,'task_type':'CPU','learning_rate':1e-1}\n",
    "cv(train,features,cat_features,params)"
   ]
  },
  {
   "cell_type": "code",
   "execution_count": 525,
   "id": "c0ccebcb",
   "metadata": {},
   "outputs": [
    {
     "name": "stdout",
     "output_type": "stream",
     "text": [
      "0:\tlearn: 54.7431225\ttotal: 9.41ms\tremaining: 9.4s\n",
      "500:\tlearn: 3.4194179\ttotal: 781ms\tremaining: 778ms\n",
      "999:\tlearn: 2.0140236\ttotal: 1.55s\tremaining: 0us\n"
     ]
    },
    {
     "data": {
      "text/plain": [
       "<catboost.core.CatBoostRegressor at 0x7f31e7d93370>"
      ]
     },
     "execution_count": 525,
     "metadata": {},
     "output_type": "execute_result"
    }
   ],
   "source": [
    "train_pool = Pool(train[features],train[target],cat_features=cat_features)\n",
    "model = CatBoostRegressor(**params)\n",
    "model.fit(train_pool)\n"
   ]
  },
  {
   "cell_type": "code",
   "execution_count": 527,
   "id": "765b4824",
   "metadata": {},
   "outputs": [],
   "source": [
    "test_pool = Pool(test[features],test[target],cat_features)"
   ]
  },
  {
   "cell_type": "code",
   "execution_count": 530,
   "id": "cecc776d",
   "metadata": {},
   "outputs": [],
   "source": [
    "test[target]= model.predict(test_pool)"
   ]
  },
  {
   "cell_type": "code",
   "execution_count": 532,
   "id": "04e2d558",
   "metadata": {},
   "outputs": [],
   "source": [
    "test[['dates', 'SKU', 'price_per_sku']].to_csv('prediction.csv')"
   ]
  },
  {
   "cell_type": "code",
   "execution_count": null,
   "id": "1ae3537d",
   "metadata": {},
   "outputs": [],
   "source": []
  }
 ],
 "metadata": {
  "kernelspec": {
   "display_name": "Python 3 (ipykernel)",
   "language": "python",
   "name": "python3"
  },
  "language_info": {
   "codemirror_mode": {
    "name": "ipython",
    "version": 3
   },
   "file_extension": ".py",
   "mimetype": "text/x-python",
   "name": "python",
   "nbconvert_exporter": "python",
   "pygments_lexer": "ipython3",
   "version": "3.10.12"
  }
 },
 "nbformat": 4,
 "nbformat_minor": 5
}
